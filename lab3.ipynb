{
 "cells": [
  {
   "cell_type": "markdown",
   "metadata": {},
   "source": [
    "Copyright (c) 2024 Gabriele Mancari Pasi <s323387@studenti.polito.it>\n",
    "\n",
    "## Lab 3 - Path search Gem Puzzle"
   ]
  },
  {
   "cell_type": "code",
   "execution_count": 1,
   "metadata": {},
   "outputs": [],
   "source": [
    "from collections import namedtuple\n",
    "from random import choice\n",
    "from tqdm.auto import tqdm\n",
    "import numpy as np"
   ]
  },
  {
   "cell_type": "code",
   "execution_count": 2,
   "metadata": {},
   "outputs": [],
   "source": [
    "PUZZLE_DIM = 3\n",
    "action = namedtuple('Action', ['pos1', 'pos2'])"
   ]
  },
  {
   "cell_type": "code",
   "execution_count": 3,
   "metadata": {},
   "outputs": [],
   "source": [
    "def available_actions(state: np.ndarray) -> list['Action']:\n",
    "    x, y = [int(_[0]) for _ in np.where(state == 0)]\n",
    "    actions = list()\n",
    "    if x > 0:\n",
    "        actions.append(action((x, y), (x - 1, y)))\n",
    "    if x < PUZZLE_DIM - 1:\n",
    "        actions.append(action((x, y), (x + 1, y)))\n",
    "    if y > 0:\n",
    "        actions.append(action((x, y), (x, y - 1)))\n",
    "    if y < PUZZLE_DIM - 1:\n",
    "        actions.append(action((x, y), (x, y + 1)))\n",
    "    return actions"
   ]
  },
  {
   "cell_type": "code",
   "execution_count": 4,
   "metadata": {},
   "outputs": [],
   "source": [
    "def do_action(state: np.ndarray, action: 'Action') -> np.ndarray:\n",
    "    new_state = state.copy()\n",
    "    new_state[action.pos1], new_state[action.pos2] = new_state[action.pos2], new_state[action.pos1]\n",
    "    return new_state"
   ]
  },
  {
   "cell_type": "markdown",
   "metadata": {},
   "source": [
    "### Manhattan distance\n",
    "One of the most common heuristics is the Manhattan distance, a function that estimates the cost to reach the goal from the current state"
   ]
  },
  {
   "cell_type": "code",
   "execution_count": 5,
   "metadata": {},
   "outputs": [],
   "source": [
    "def manhattan_distance(state: np.ndarray, goal: np.ndarray) -> int:\n",
    "    \"\"\"Calculate the Manhattan distance between the current state and the goal\"\"\"\n",
    "    distance = 0\n",
    "    for x in range(PUZZLE_DIM):\n",
    "        for y in range(PUZZLE_DIM):\n",
    "            value = state[x, y]\n",
    "            if value == 0:\n",
    "                continue\n",
    "            target_x, target_y = divmod(value - 1, PUZZLE_DIM)\n",
    "            distance += abs(x - target_x) + abs(y - target_y)\n",
    "    return distance"
   ]
  },
  {
   "cell_type": "code",
   "execution_count": 6,
   "metadata": {},
   "outputs": [],
   "source": [
    "def is_goal(state: np.ndarray, goal: np.ndarray) -> bool:\n",
    "    \"\"\"Check if the current state is the goal state\"\"\"\n",
    "    return np.array_equal(state, goal)"
   ]
  },
  {
   "cell_type": "markdown",
   "metadata": {},
   "source": [
    "### A* approach\n"
   ]
  },
  {
   "cell_type": "code",
   "execution_count": 7,
   "metadata": {},
   "outputs": [],
   "source": [
    "def a_star_solve(start_state: np.ndarray, goal_state: np.ndarray) -> list[np.ndarray]:\n",
    "    \"\"\"Solve the n^2-1 puzzle using the A* algorithm\"\"\"\n",
    "    frontier = [(0, tuple(start_state.flatten()), start_state)]\n",
    "    \n",
    "    came_from = {tuple(start_state.flatten()): None}\n",
    "    cost_so_far = {tuple(start_state.flatten()): 0}\n",
    "    \n",
    "    while frontier:\n",
    "        _, current_tuple, current_state = frontier.pop(0)\n",
    "        \n",
    "        if is_goal(current_state, goal_state):\n",
    "            path = []\n",
    "            while current_tuple is not None:\n",
    "                path.append(current_state)\n",
    "                current_tuple = came_from[current_tuple]\n",
    "                current_state = None if current_tuple is None else np.array(current_tuple).reshape(PUZZLE_DIM, PUZZLE_DIM)\n",
    "            return path[::-1]\n",
    "        \n",
    "        for act in available_actions(current_state):\n",
    "            next_state = do_action(current_state, act)\n",
    "            next_tuple = tuple(next_state.flatten())\n",
    "            new_cost = cost_so_far[current_tuple] + 1\n",
    "            \n",
    "            if next_tuple not in cost_so_far or new_cost < cost_so_far[next_tuple]:\n",
    "                cost_so_far[next_tuple] = new_cost\n",
    "                priority = new_cost + manhattan_distance(next_state, goal_state)\n",
    "\n",
    "                inserted = False\n",
    "                for i in range(len(frontier)):\n",
    "                    if frontier[i][0] > priority:\n",
    "                        frontier.insert(i, (priority, next_tuple, next_state))\n",
    "                        inserted = True\n",
    "                        break\n",
    "                if not inserted:\n",
    "                    frontier.append((priority, next_tuple, next_state))\n",
    "                \n",
    "                came_from[next_tuple] = current_tuple\n",
    "\n",
    "    return None"
   ]
  },
  {
   "cell_type": "markdown",
   "metadata": {},
   "source": [
    "### BFS approach\n"
   ]
  },
  {
   "cell_type": "code",
   "execution_count": 8,
   "metadata": {},
   "outputs": [],
   "source": [
    "def bfs_solve(start_state: np.ndarray, goal_state: np.ndarray) -> list[np.ndarray]:\n",
    "    \"\"\"Solve the n^2-1 puzzle using the BFS algorithm\"\"\"\n",
    "    queue = [(start_state, [])]\n",
    "    visited = set()\n",
    "\n",
    "    while queue:\n",
    "        current_state, path = queue.pop(0)\n",
    "\n",
    "        if is_goal(current_state, goal_state):\n",
    "            return path + [current_state]\n",
    "\n",
    "        current_tuple = tuple(current_state.flatten())\n",
    "        if current_tuple in visited:\n",
    "            continue\n",
    "        visited.add(current_tuple)\n",
    "\n",
    "        for act in available_actions(current_state):\n",
    "            next_state = do_action(current_state, act)\n",
    "            next_tuple = tuple(next_state.flatten())\n",
    "\n",
    "            if next_tuple not in visited:\n",
    "                queue.append((next_state, path + [current_state]))\n",
    "\n",
    "    return None"
   ]
  },
  {
   "cell_type": "markdown",
   "metadata": {},
   "source": [
    "### IDDFS approach"
   ]
  },
  {
   "cell_type": "code",
   "execution_count": 9,
   "metadata": {},
   "outputs": [],
   "source": [
    "def iddfs_solve(start_state: np.ndarray, goal_state: np.ndarray, max_depth=30) -> list[np.ndarray]:\n",
    "    \"\"\"Solve the n^2-1 puzzle using Iterative Deepening DFS (IDDFS).\"\"\"\n",
    "    start_tuple = tuple(start_state.flatten())\n",
    "    goal_tuple = tuple(goal_state.flatten())\n",
    "\n",
    "    def dfs(current_tuple, path, depth, visited):\n",
    "        if depth == 0:\n",
    "            return None\n",
    "        if current_tuple == goal_tuple:\n",
    "            return path + [current_tuple]\n",
    "        visited.add(current_tuple)\n",
    "        current_state = np.array(current_tuple).reshape(start_state.shape)\n",
    "        for act in available_actions(current_state):\n",
    "            next_state = do_action(current_state, act)\n",
    "            next_tuple = tuple(next_state.flatten())\n",
    "            if next_tuple not in visited:\n",
    "                result = dfs(next_tuple, path + [current_tuple], depth - 1, visited)\n",
    "                if result:\n",
    "                    return result\n",
    "        visited.remove(current_tuple)\n",
    "        return None\n",
    "\n",
    "    for depth in range(1, max_depth + 1):\n",
    "        visited = set()\n",
    "        result = dfs(start_tuple, [], depth, visited)\n",
    "        if result:\n",
    "            return [np.array(p).reshape(start_state.shape) for p in result]\n",
    "\n",
    "    return None"
   ]
  },
  {
   "cell_type": "code",
   "execution_count": 10,
   "metadata": {},
   "outputs": [
    {
     "data": {
      "application/vnd.jupyter.widget-view+json": {
       "model_id": "8bf7cca130e4402c987c112a8c4f07e5",
       "version_major": 2,
       "version_minor": 0
      },
      "text/plain": [
       "Randomizing:   0%|          | 0/100000 [00:00<?, ?it/s]"
      ]
     },
     "metadata": {},
     "output_type": "display_data"
    },
    {
     "data": {
      "text/plain": [
       "array([[2, 3, 4],\n",
       "       [5, 0, 6],\n",
       "       [8, 7, 1]])"
      ]
     },
     "execution_count": 10,
     "metadata": {},
     "output_type": "execute_result"
    }
   ],
   "source": [
    "RANDOMIZE_STEPS = 100_000\n",
    "state = np.array([i for i in range(1, PUZZLE_DIM**2)] + [0]).reshape((PUZZLE_DIM, PUZZLE_DIM))\n",
    "for r in tqdm(range(RANDOMIZE_STEPS), desc='Randomizing'):\n",
    "    state = do_action(state, choice(available_actions(state)))\n",
    "state"
   ]
  },
  {
   "cell_type": "code",
   "execution_count": 11,
   "metadata": {},
   "outputs": [
    {
     "data": {
      "text/plain": [
       "array([[1, 2, 3],\n",
       "       [4, 5, 6],\n",
       "       [7, 8, 0]])"
      ]
     },
     "execution_count": 11,
     "metadata": {},
     "output_type": "execute_result"
    }
   ],
   "source": [
    "goal_state = np.array([i for i in range(1, PUZZLE_DIM**2)] + [0]).reshape((PUZZLE_DIM, PUZZLE_DIM))\n",
    "goal_state"
   ]
  },
  {
   "cell_type": "code",
   "execution_count": 12,
   "metadata": {},
   "outputs": [
    {
     "name": "stdout",
     "output_type": "stream",
     "text": [
      "Solution found in 22 moves:\n",
      "Step 0:\n",
      "[[2 3 4]\n",
      " [5 0 6]\n",
      " [8 7 1]]\n",
      "\n",
      "Final Step (22):\n",
      "[[1 2 3]\n",
      " [4 5 6]\n",
      " [7 8 0]]\n",
      "\n"
     ]
    }
   ],
   "source": [
    "solution = a_star_solve(state, goal_state)\n",
    "if solution:\n",
    "    print(f\"Solution found in {len(solution) - 1} moves:\")\n",
    "    print(f\"Step 0:\\n{solution[0]}\\n\")\n",
    "    print(f\"Final Step ({len(solution) - 1}):\\n{solution[-1]}\\n\")\n",
    "else:\n",
    "    print(\"No solution found.\")"
   ]
  },
  {
   "cell_type": "code",
   "execution_count": 13,
   "metadata": {},
   "outputs": [
    {
     "name": "stdout",
     "output_type": "stream",
     "text": [
      "Solution found in 22 moves:\n",
      "Step 0:\n",
      "[[2 3 4]\n",
      " [5 0 6]\n",
      " [8 7 1]]\n",
      "\n",
      "Final Step (22):\n",
      "[[1 2 3]\n",
      " [4 5 6]\n",
      " [7 8 0]]\n",
      "\n"
     ]
    }
   ],
   "source": [
    "solution = bfs_solve(state, goal_state)\n",
    "if solution:\n",
    "    print(f\"Solution found in {len(solution) - 1} moves:\")\n",
    "    print(f\"Step 0:\\n{solution[0]}\\n\")\n",
    "    print(f\"Final Step ({len(solution) - 1}):\\n{solution[-1]}\\n\")\n",
    "else:\n",
    "    print(\"No solution found.\")"
   ]
  },
  {
   "cell_type": "code",
   "execution_count": 14,
   "metadata": {},
   "outputs": [
    {
     "name": "stdout",
     "output_type": "stream",
     "text": [
      "Solution found in 22 moves:\n",
      "Step 0:\n",
      "[[2 3 4]\n",
      " [5 0 6]\n",
      " [8 7 1]]\n",
      "\n",
      "Final Step (22):\n",
      "[[1 2 3]\n",
      " [4 5 6]\n",
      " [7 8 0]]\n",
      "\n"
     ]
    }
   ],
   "source": [
    "solution = iddfs_solve(state, goal_state)\n",
    "if solution:\n",
    "    print(f\"Solution found in {len(solution) - 1} moves:\")\n",
    "    print(f\"Step 0:\\n{solution[0]}\\n\")\n",
    "    print(f\"Final Step ({len(solution) - 1}):\\n{solution[-1]}\\n\")\n",
    "else:\n",
    "    print(\"No solution found.\")"
   ]
  }
 ],
 "metadata": {
  "kernelspec": {
   "display_name": "venv",
   "language": "python",
   "name": "python3"
  },
  "language_info": {
   "codemirror_mode": {
    "name": "ipython",
    "version": 3
   },
   "file_extension": ".py",
   "mimetype": "text/x-python",
   "name": "python",
   "nbconvert_exporter": "python",
   "pygments_lexer": "ipython3",
   "version": "3.11.9"
  }
 },
 "nbformat": 4,
 "nbformat_minor": 2
}
